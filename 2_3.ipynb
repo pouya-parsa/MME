{
  "nbformat": 4,
  "nbformat_minor": 0,
  "metadata": {
    "kernelspec": {
      "display_name": "Python 3",
      "language": "python",
      "name": "python3"
    },
    "language_info": {
      "codemirror_mode": {
        "name": "ipython",
        "version": 3
      },
      "file_extension": ".py",
      "mimetype": "text/x-python",
      "name": "python",
      "nbconvert_exporter": "python",
      "pygments_lexer": "ipython3",
      "version": "3.7.4"
    },
    "colab": {
      "name": "Untitled.ipynb",
      "provenance": [],
      "include_colab_link": true
    }
  },
  "cells": [
    {
      "cell_type": "markdown",
      "metadata": {
        "id": "view-in-github",
        "colab_type": "text"
      },
      "source": [
        "<a href=\"https://colab.research.google.com/github/nimahsn/MME/blob/master/2_3.ipynb\" target=\"_parent\"><img src=\"https://colab.research.google.com/assets/colab-badge.svg\" alt=\"Open In Colab\"/></a>"
      ]
    },
    {
      "cell_type": "code",
      "metadata": {
        "id": "LI1RdytIljUA",
        "colab_type": "code",
        "colab": {}
      },
      "source": [
        "import numpy as np"
      ],
      "execution_count": 0,
      "outputs": []
    },
    {
      "cell_type": "markdown",
      "metadata": {
        "id": "uGen1SuPljUM",
        "colab_type": "text"
      },
      "source": [
        "# 2.3\n",
        "# Inner Product and Vector Norms"
      ]
    },
    {
      "cell_type": "markdown",
      "metadata": {
        "id": "ByJkDFg5ljUP",
        "colab_type": "text"
      },
      "source": [
        "- Norms"
      ]
    },
    {
      "cell_type": "code",
      "metadata": {
        "id": "zbYTvKo2ljUS",
        "colab_type": "code",
        "colab": {}
      },
      "source": [
        "vec = np.array([1,2,3])"
      ],
      "execution_count": 0,
      "outputs": []
    },
    {
      "cell_type": "code",
      "metadata": {
        "id": "C1_8RxoiljUZ",
        "colab_type": "code",
        "colab": {
          "base_uri": "https://localhost:8080/",
          "height": 34
        },
        "outputId": "ccde07bb-2805-4993-9606-8b2fe08953b7"
      },
      "source": [
        "np.linalg.norm(vec) #2-norm"
      ],
      "execution_count": 3,
      "outputs": [
        {
          "output_type": "execute_result",
          "data": {
            "text/plain": [
              "3.7416573867739413"
            ]
          },
          "metadata": {
            "tags": []
          },
          "execution_count": 3
        }
      ]
    },
    {
      "cell_type": "code",
      "metadata": {
        "id": "HZ9adqGWljUi",
        "colab_type": "code",
        "colab": {
          "base_uri": "https://localhost:8080/",
          "height": 34
        },
        "outputId": "64c9e9d4-b76d-4212-dc6d-3b3cb0cfebff"
      },
      "source": [
        "np.linalg.norm(vec, np.inf) #max norm"
      ],
      "execution_count": 4,
      "outputs": [
        {
          "output_type": "execute_result",
          "data": {
            "text/plain": [
              "3.0"
            ]
          },
          "metadata": {
            "tags": []
          },
          "execution_count": 4
        }
      ]
    },
    {
      "cell_type": "code",
      "metadata": {
        "id": "vhylneXHljUq",
        "colab_type": "code",
        "colab": {
          "base_uri": "https://localhost:8080/",
          "height": 34
        },
        "outputId": "c8b76839-c2f9-4312-97c7-50a5028b21c8"
      },
      "source": [
        "np.linalg.norm(vec, ord=-np.inf)#min norm"
      ],
      "execution_count": 5,
      "outputs": [
        {
          "output_type": "execute_result",
          "data": {
            "text/plain": [
              "1.0"
            ]
          },
          "metadata": {
            "tags": []
          },
          "execution_count": 5
        }
      ]
    },
    {
      "cell_type": "code",
      "metadata": {
        "id": "JAeF2WYWljU0",
        "colab_type": "code",
        "colab": {
          "base_uri": "https://localhost:8080/",
          "height": 34
        },
        "outputId": "18c50a2f-ba21-478e-e068-e064b35c407d"
      },
      "source": [
        "np.linalg.norm(vec, ord=0) #1-norm"
      ],
      "execution_count": 6,
      "outputs": [
        {
          "output_type": "execute_result",
          "data": {
            "text/plain": [
              "3.0"
            ]
          },
          "metadata": {
            "tags": []
          },
          "execution_count": 6
        }
      ]
    },
    {
      "cell_type": "markdown",
      "metadata": {
        "id": "YAzSWj1hljU7",
        "colab_type": "text"
      },
      "source": [
        "- Error"
      ]
    },
    {
      "cell_type": "code",
      "metadata": {
        "id": "GhmlCjI_ljU8",
        "colab_type": "code",
        "colab": {}
      },
      "source": [
        "approximation_vec=np.array([1.1,2.2,3.3])"
      ],
      "execution_count": 0,
      "outputs": []
    },
    {
      "cell_type": "code",
      "metadata": {
        "id": "eN_v4CHFljVC",
        "colab_type": "code",
        "colab": {
          "base_uri": "https://localhost:8080/",
          "height": 34
        },
        "outputId": "f6fff78f-2d2d-42fb-dbd9-74557927eb0b"
      },
      "source": [
        "np.linalg.norm(approximation_vec - vec) #absolute error"
      ],
      "execution_count": 8,
      "outputs": [
        {
          "output_type": "execute_result",
          "data": {
            "text/plain": [
              "0.3741657386773941"
            ]
          },
          "metadata": {
            "tags": []
          },
          "execution_count": 8
        }
      ]
    },
    {
      "cell_type": "code",
      "metadata": {
        "id": "e1k5x4FxljVH",
        "colab_type": "code",
        "colab": {
          "base_uri": "https://localhost:8080/",
          "height": 34
        },
        "outputId": "bef438a5-bcad-47db-cf01-a1f11ffac610"
      },
      "source": [
        "np.linalg.norm(approximation_vec - vec)/np.linalg.norm(vec) #relative error"
      ],
      "execution_count": 9,
      "outputs": [
        {
          "output_type": "execute_result",
          "data": {
            "text/plain": [
              "0.09999999999999999"
            ]
          },
          "metadata": {
            "tags": []
          },
          "execution_count": 9
        }
      ]
    },
    {
      "cell_type": "markdown",
      "metadata": {
        "id": "xAPSBZIzljVO",
        "colab_type": "text"
      },
      "source": [
        " In data mining applications it is common to use the cosine of the angle between\n",
        "    two vectors as a distance measure:"
      ]
    },
    {
      "cell_type": "code",
      "metadata": {
        "id": "2kKDJDbIljVR",
        "colab_type": "code",
        "colab": {
          "base_uri": "https://localhost:8080/",
          "height": 51
        },
        "outputId": "ef876fd0-0f2b-40af-ac74-b808abe97d32"
      },
      "source": [
        "#cosine similarity\n",
        "cos_sim = np.dot(vec, approximation_vec)/(np.linalg.norm(vec)*np.linalg.norm(approximation_vec))\n",
        "print(cos_sim)\n",
        "\n",
        "#cosine distance\n",
        "1-cos_sim"
      ],
      "execution_count": 10,
      "outputs": [
        {
          "output_type": "stream",
          "text": [
            "1.0\n"
          ],
          "name": "stdout"
        },
        {
          "output_type": "execute_result",
          "data": {
            "text/plain": [
              "0.0"
            ]
          },
          "metadata": {
            "tags": []
          },
          "execution_count": 10
        }
      ]
    },
    {
      "cell_type": "code",
      "metadata": {
        "id": "6dCLufQNljVY",
        "colab_type": "code",
        "colab": {
          "base_uri": "https://localhost:8080/",
          "height": 34
        },
        "outputId": "da890d4b-1e78-4a27-b490-9ada0c5f8af0"
      },
      "source": [
        "from scipy import spatial\n",
        "spatial.distance.cosine(vec, approximation_vec) #cosine distance with scipy"
      ],
      "execution_count": 11,
      "outputs": [
        {
          "output_type": "execute_result",
          "data": {
            "text/plain": [
              "0.0"
            ]
          },
          "metadata": {
            "tags": []
          },
          "execution_count": 11
        }
      ]
    },
    {
      "cell_type": "code",
      "metadata": {
        "id": "3IYWriHSljVi",
        "colab_type": "code",
        "colab": {}
      },
      "source": [
        ""
      ],
      "execution_count": 0,
      "outputs": []
    }
  ]
}