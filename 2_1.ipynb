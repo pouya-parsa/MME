{
  "nbformat": 4,
  "nbformat_minor": 0,
  "metadata": {
    "colab": {
      "name": "2.1.ipynb",
      "provenance": [],
      "collapsed_sections": [],
      "mount_file_id": "1dHVygJBZZdqamySi42CeazUhXHpgPipt",
      "authorship_tag": "ABX9TyMrYltdEvK8Ni8GvI5XZgTt",
      "include_colab_link": true
    },
    "kernelspec": {
      "name": "python3",
      "display_name": "Python 3"
    }
  },
  "cells": [
    {
      "cell_type": "markdown",
      "metadata": {
        "id": "view-in-github",
        "colab_type": "text"
      },
      "source": [
        "<a href=\"https://colab.research.google.com/github/pouya-parsa/MME/blob/master/2_1.ipynb\" target=\"_parent\"><img src=\"https://colab.research.google.com/assets/colab-badge.svg\" alt=\"Open In Colab\"/></a>"
      ]
    },
    {
      "cell_type": "code",
      "metadata": {
        "id": "1peTr5gaevqJ",
        "colab_type": "code",
        "colab": {}
      },
      "source": [
        "import numpy as np"
      ],
      "execution_count": 0,
      "outputs": []
    },
    {
      "cell_type": "markdown",
      "metadata": {
        "id": "DZwNuKLJVLFi",
        "colab_type": "text"
      },
      "source": [
        "Let A be an m × n matrix. Consider the definition of matrix-vector multiplication:\n",
        "$y=Ax, \\qquad y_{i} = \\sum_{j=1}^{n} \\overset{scalar}{a_{ij}} \\enspace \\overset{scalar}{x_{j}}, \\quad i=1,\\cdots, m. \\qquad (2.1) $"
      ]
    },
    {
      "cell_type": "markdown",
      "metadata": {
        "id": "5J3mNWADWdet",
        "colab_type": "text"
      },
      "source": [
        "$\\begin{pmatrix}\n",
        " \\times \\\\\n",
        " \\times \\\\\n",
        " \\times \\\\\n",
        " \\times\n",
        "\\end{pmatrix}\n",
        "=\n",
        "\\begin{pmatrix}\n",
        "\\leftarrow & - & - & \\rightarrow \\\\\n",
        "\\leftarrow & - & - & \\rightarrow \\\\\n",
        "\\leftarrow & - & - & \\rightarrow \\\\\n",
        "\\leftarrow & - & - & \\rightarrow \\\\\n",
        "\\end{pmatrix}\n",
        "\\begin{pmatrix}\n",
        "\\uparrow \\\\\n",
        "| \\\\\n",
        "| \\\\\n",
        "\\downarrow\n",
        "\\end{pmatrix}\n",
        "\\qquad (2.2)\n",
        "$"
      ]
    },
    {
      "cell_type": "code",
      "metadata": {
        "id": "-a8w1_KxeYon",
        "colab_type": "code",
        "outputId": "da3fec9d-30aa-4a07-86f4-51fed4af4aec",
        "colab": {
          "base_uri": "https://localhost:8080/",
          "height": 34
        }
      },
      "source": [
        "A = np.array([\n",
        "              [1, 2, 3], \n",
        "              [5, 15, 6],\n",
        "              [17, 0, 1]])\n",
        "x = np.array([1,\n",
        "              2,\n",
        "              3])\n",
        "\n",
        "y = A.dot(x)\n",
        "y"
      ],
      "execution_count": 0,
      "outputs": [
        {
          "output_type": "execute_result",
          "data": {
            "text/plain": [
              "array([14, 53, 20])"
            ]
          },
          "metadata": {
            "tags": []
          },
          "execution_count": 4
        }
      ]
    },
    {
      "cell_type": "markdown",
      "metadata": {
        "id": "6ehcnRuy7UEH",
        "colab_type": "text"
      },
      "source": [
        "Alternatively, we can write the operation in the following way. Let a·j be a column vector of A. Then we can write\n",
        "$y = Ax = \n",
        " \\begin{pmatrix} a._{1} & a._{2} &  \\cdots & a._{n} \\end{pmatrix}\n",
        " \\begin{pmatrix}  \n",
        "   x_{1} \\\\\n",
        "   x_{2} \\\\\n",
        "   \\vdots \\\\\n",
        "   x_{n}\n",
        " \\end{pmatrix}\n",
        " = \\sum_{j=1}^n \\overset{scalar}{x_{j}} \\enspace \\overset{vector}{a.{j}}\n",
        " $\n",
        "\n"
      ]
    },
    {
      "cell_type": "markdown",
      "metadata": {
        "id": "hwLIkntlKvuS",
        "colab_type": "text"
      },
      "source": [
        "$\\begin{pmatrix} \\uparrow \\\\ | \\\\ | \\\\ \\downarrow  \\end{pmatrix}\n",
        "=\\begin{pmatrix} \n",
        " \\uparrow & \\uparrow & \\uparrow & \\uparrow \\\\\n",
        " | & | & | & | \\\\\n",
        " | & | & | & | \\\\\n",
        " \\downarrow & \\downarrow & \\downarrow & \\downarrow\n",
        "\\end{pmatrix}\n",
        "\\begin{pmatrix}\n",
        " \\times \\\\\n",
        " \\times \\\\\n",
        " \\times \\\\\n",
        " \\times\n",
        "\\end{pmatrix}.\n",
        "\\qquad (2.3)$\n",
        "\n",
        "This way of writing also emphasizes\n",
        "the view of the $\\textbf{column vectors of A as basis vectors}$ and the $\\textbf{components of x as coordinates with respect to the basis.}$"
      ]
    }
  ]
}